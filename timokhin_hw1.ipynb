{
 "cells": [
  {
   "cell_type": "markdown",
   "metadata": {},
   "source": [
    "**Общая информация**\n",
    "\n",
    "**Срок сдачи:** 18 октября 2017, 06:00 <br\\>\n",
    "**Штраф за опоздание:** -2 балла после 06:00 18 октября, -4 балла после 06:00 25 октября, -6 баллов после 06:00 1 ноября\n",
    "\n",
    "При отправлении ДЗ указывайте фамилию в названии файла\n",
    "Присылать ДЗ необходимо в виде ссылки на свой github репозиторий в slack @alkhamush\n",
    "\n",
    "Необходимо в slack создать таск в приватный чат:\n",
    "/todo Фамилия Имя ссылка на гитхаб @alkhamush\n",
    "Пример:\n",
    "/todo Ксения Стройкова https://github.com/stroykova/spheremailru/stroykova_hw1.ipynb @alkhamush\n",
    "Дополнительно нужно просто скинуть ссылку в slack в личный чат\n",
    "\n",
    "Используйте данный Ipython Notebook при оформлении домашнего задания."
   ]
  },
  {
   "cell_type": "markdown",
   "metadata": {},
   "source": [
    "###### Задание 1 (2 баллов)\n",
    "Реализовать KNN в классе MyKNeighborsClassifier (обязательное условие: точность не ниже sklearn реализации)\n",
    "Разберитесь самостоятельно, какая мера расстояния используется в KNeighborsClassifier дефолтно и реализуйте свой алгоритм именно с этой мерой. Самостоятельно разберитесь, как считается score из KNeighborsClassifier и реализуйте аналог в своём классе. Score не должен уступать значению KNN из sklearn\n",
    "\n",
    "###### Задание 2 (2 балла)\n",
    "Добиться скорости работы на fit,  predict и predict_proba сравнимой со sklearn для iris и mnist\n",
    "Для этого используем numpy\n",
    "\n",
    "###### Задание 3 (2 балла)\n",
    "Для iris найдите такой параметр n_neighbors, при котором выдаётся наилучший score. Нарисуйте график зависимости score от n_neighbors\n",
    "\n",
    "###### Задание 4 (3 балла)\n",
    "Добавить algorithm='kd_tree' в реализацию KNN (использовать KDTree из sklearn.neighbors). Значение n_neighbors нужно взять из задания 3. Добиться скорости работы на fit,  predict и predict_proba сравнимой со sklearn для iris и mnist\n",
    "Для этого используем numpy. Score не должен уступать значению KNN из sklearn\n",
    "\n",
    "###### Задание 5 (1 балла)\n",
    "Описать для чего нужны следующие библиотеки/классы/функции (список будет ниже)\n",
    "\n",
    "**Штрафные баллы:**\n",
    "\n",
    "1. Невыполнение PEP8 -1 балл\n",
    "2. Отсутствие фамилии в имени скрипта (скрипт должен называться по аналогии со stroykova_hw1.ipynb) -1 балл\n",
    "3. Все строчки должны быть выполнены. Нужно, чтобы output команды можно было увидеть уже в git'е. В противном случае -1 балл\n",
    "4. При оформлении ДЗ нужно пользоваться данным файлом в качестве шаблона. Не нужно удалять и видоизменять структуру кода и текст. В противном случае -1 балл\n"
   ]
  },
  {
   "cell_type": "code",
   "execution_count": 1,
   "metadata": {},
   "outputs": [],
   "source": [
    "import numpy as np\n",
    "import matplotlib.pyplot as plt\n",
    "\n",
    "import seaborn as sns\n",
    "from scipy import stats\n",
    "from sklearn import datasets\n",
    "from sklearn.base import ClassifierMixin\n",
    "from sklearn.datasets import fetch_mldata\n",
    "from sklearn.neighbors.base import NeighborsBase, KNeighborsMixin, SupervisedIntegerMixin \n",
    "from sklearn.model_selection import train_test_split\n",
    "from sklearn.neighbors import KNeighborsClassifier, KDTree\n",
    "%load_ext pycodestyle_magic"
   ]
  },
  {
   "cell_type": "code",
   "execution_count": 2,
   "metadata": {},
   "outputs": [],
   "source": [
    "#%%pycodestyle\n",
    "\n",
    "\n",
    "class MyKNeighborsClassifier(NeighborsBase,\n",
    "                             KNeighborsMixin,\n",
    "                             SupervisedIntegerMixin,\n",
    "                             ClassifierMixin):\n",
    "\n",
    "    def __init__(self, n_neighbors, algorithm='brute'):\n",
    "        self.n_neighbors = n_neighbors\n",
    "        self.__algorithm = algorithm\n",
    "\n",
    "    def fit(self, X, y):\n",
    "        self.__data_tags = y.astype(int)\n",
    "        self.__classes = np.unique(self.__data_tags)\n",
    "        if self.__algorithm == 'brute':\n",
    "            self.__data = X.astype(float)\n",
    "            self.__data_sqr = np.sum(X.astype(float)**2, axis=1)\n",
    "            self.__data_sqr = self.__data_sqr.reshape(-1, 1)\n",
    "        elif self.__algorithm == 'kd_tree':\n",
    "            self.__kd_tree = KDTree(X)\n",
    "\n",
    "    def __get_neighbors(self, X):\n",
    "        if self.__algorithm == 'brute':\n",
    "            lX = X.astype(float)\n",
    "            d = -2 * np.matmul(self.__data, lX.T)\n",
    "            d += self.__data_sqr\n",
    "            d += np.sum(lX**2, axis=1).reshape(1, -1)\n",
    "            tags = d.argpartition(self.n_neighbors, axis=0).T\n",
    "            return self.__data_tags[tags[:, :self.n_neighbors]]\n",
    "        elif self.__algorithm == 'kd_tree':\n",
    "            inds = self.__kd_tree.query(X, k=self.n_neighbors,\n",
    "                                        return_distance=False)\n",
    "            return self.__data_tags[inds]\n",
    "\n",
    "    def predict(self, X):\n",
    "        return stats.mode(self.__get_neighbors(X), axis=1)[0].reshape(1, -1)[0]\n",
    "\n",
    "    def predict_proba(self, X):\n",
    "        neig = self.__get_neighbors(X)\n",
    "        ret = np.zeros([X.shape[0], self.__classes.shape[0]])\n",
    "        for i, j in enumerate(neig):\n",
    "            for a, b in enumerate(self.__classes):\n",
    "                ret[i][a] = (j == b).sum() / self.n_neighbors\n",
    "        return ret\n",
    "\n",
    "    def score(self, X, y):\n",
    "        prob = self.predict(X)\n",
    "        return (prob == y).sum() / prob.shape[0]"
   ]
  },
  {
   "cell_type": "markdown",
   "metadata": {},
   "source": [
    "**IRIS**"
   ]
  },
  {
   "cell_type": "code",
   "execution_count": 3,
   "metadata": {},
   "outputs": [],
   "source": [
    "iris = datasets.load_iris()"
   ]
  },
  {
   "cell_type": "code",
   "execution_count": 4,
   "metadata": {},
   "outputs": [],
   "source": [
    "X_train, X_test, y_train, y_test = train_test_split(iris.data, iris.target, test_size=0.1, stratify=iris.target)"
   ]
  },
  {
   "cell_type": "code",
   "execution_count": 5,
   "metadata": {},
   "outputs": [],
   "source": [
    "clf = KNeighborsClassifier(n_neighbors=2)\n",
    "my_clf = MyKNeighborsClassifier(n_neighbors=2)"
   ]
  },
  {
   "cell_type": "code",
   "execution_count": 6,
   "metadata": {},
   "outputs": [
    {
     "name": "stdout",
     "output_type": "stream",
     "text": [
      "CPU times: user 0 ns, sys: 0 ns, total: 0 ns\n",
      "Wall time: 1.53 ms\n"
     ]
    },
    {
     "data": {
      "text/plain": [
       "KNeighborsClassifier(algorithm='auto', leaf_size=30, metric='minkowski',\n",
       "           metric_params=None, n_jobs=1, n_neighbors=2, p=2,\n",
       "           weights='uniform')"
      ]
     },
     "execution_count": 6,
     "metadata": {},
     "output_type": "execute_result"
    }
   ],
   "source": [
    "%time clf.fit(X_train, y_train)"
   ]
  },
  {
   "cell_type": "code",
   "execution_count": 7,
   "metadata": {},
   "outputs": [
    {
     "name": "stdout",
     "output_type": "stream",
     "text": [
      "CPU times: user 0 ns, sys: 0 ns, total: 0 ns\n",
      "Wall time: 100 µs\n"
     ]
    }
   ],
   "source": [
    "%time my_clf.fit(X_train, y_train)"
   ]
  },
  {
   "cell_type": "code",
   "execution_count": 8,
   "metadata": {},
   "outputs": [
    {
     "name": "stdout",
     "output_type": "stream",
     "text": [
      "CPU times: user 0 ns, sys: 0 ns, total: 0 ns\n",
      "Wall time: 1.37 ms\n"
     ]
    },
    {
     "data": {
      "text/plain": [
       "array([0, 1, 0, 1, 2, 2, 0, 1, 1, 0, 2, 1, 1, 1, 0])"
      ]
     },
     "execution_count": 8,
     "metadata": {},
     "output_type": "execute_result"
    }
   ],
   "source": [
    "%time clf.predict(X_test)"
   ]
  },
  {
   "cell_type": "code",
   "execution_count": 9,
   "metadata": {},
   "outputs": [
    {
     "name": "stdout",
     "output_type": "stream",
     "text": [
      "CPU times: user 0 ns, sys: 0 ns, total: 0 ns\n",
      "Wall time: 3.32 ms\n"
     ]
    },
    {
     "data": {
      "text/plain": [
       "array([0, 1, 0, 1, 2, 2, 0, 1, 1, 0, 2, 1, 1, 1, 0])"
      ]
     },
     "execution_count": 9,
     "metadata": {},
     "output_type": "execute_result"
    }
   ],
   "source": [
    "%time my_clf.predict(X_test)"
   ]
  },
  {
   "cell_type": "code",
   "execution_count": 10,
   "metadata": {},
   "outputs": [
    {
     "name": "stdout",
     "output_type": "stream",
     "text": [
      "CPU times: user 0 ns, sys: 0 ns, total: 0 ns\n",
      "Wall time: 513 µs\n"
     ]
    },
    {
     "data": {
      "text/plain": [
       "array([[1. , 0. , 0. ],\n",
       "       [0. , 1. , 0. ],\n",
       "       [1. , 0. , 0. ],\n",
       "       [0. , 1. , 0. ],\n",
       "       [0. , 0. , 1. ],\n",
       "       [0. , 0. , 1. ],\n",
       "       [1. , 0. , 0. ],\n",
       "       [0. , 1. , 0. ],\n",
       "       [0. , 1. , 0. ],\n",
       "       [1. , 0. , 0. ],\n",
       "       [0. , 0. , 1. ],\n",
       "       [0. , 1. , 0. ],\n",
       "       [0. , 0.5, 0.5],\n",
       "       [0. , 1. , 0. ],\n",
       "       [1. , 0. , 0. ]])"
      ]
     },
     "execution_count": 10,
     "metadata": {},
     "output_type": "execute_result"
    }
   ],
   "source": [
    "%time clf.predict_proba(X_test)"
   ]
  },
  {
   "cell_type": "code",
   "execution_count": 11,
   "metadata": {},
   "outputs": [
    {
     "name": "stdout",
     "output_type": "stream",
     "text": [
      "CPU times: user 0 ns, sys: 0 ns, total: 0 ns\n",
      "Wall time: 495 µs\n"
     ]
    },
    {
     "data": {
      "text/plain": [
       "array([[1. , 0. , 0. ],\n",
       "       [0. , 1. , 0. ],\n",
       "       [1. , 0. , 0. ],\n",
       "       [0. , 1. , 0. ],\n",
       "       [0. , 0. , 1. ],\n",
       "       [0. , 0. , 1. ],\n",
       "       [1. , 0. , 0. ],\n",
       "       [0. , 1. , 0. ],\n",
       "       [0. , 1. , 0. ],\n",
       "       [1. , 0. , 0. ],\n",
       "       [0. , 0. , 1. ],\n",
       "       [0. , 1. , 0. ],\n",
       "       [0. , 0.5, 0.5],\n",
       "       [0. , 1. , 0. ],\n",
       "       [1. , 0. , 0. ]])"
      ]
     },
     "execution_count": 11,
     "metadata": {},
     "output_type": "execute_result"
    }
   ],
   "source": [
    "%time my_clf.predict_proba(X_test)"
   ]
  },
  {
   "cell_type": "code",
   "execution_count": 12,
   "metadata": {},
   "outputs": [
    {
     "data": {
      "text/plain": [
       "0.8666666666666667"
      ]
     },
     "execution_count": 12,
     "metadata": {},
     "output_type": "execute_result"
    }
   ],
   "source": [
    "clf.score(X_test, y_test)"
   ]
  },
  {
   "cell_type": "code",
   "execution_count": 13,
   "metadata": {},
   "outputs": [
    {
     "data": {
      "text/plain": [
       "0.8666666666666667"
      ]
     },
     "execution_count": 13,
     "metadata": {},
     "output_type": "execute_result"
    }
   ],
   "source": [
    "my_clf.score(X_test, y_test)"
   ]
  },
  {
   "cell_type": "markdown",
   "metadata": {},
   "source": [
    "Задание 3"
   ]
  },
  {
   "cell_type": "code",
   "execution_count": 14,
   "metadata": {},
   "outputs": [
    {
     "name": "stdout",
     "output_type": "stream",
     "text": [
      "Best number of neighbors is  17\n"
     ]
    },
    {
     "data": {
      "image/png": "[encoded data removed]",
      "text/plain": [
       "<Figure size 432x288 with 1 Axes>"
      ]
     },
     "metadata": {},
     "output_type": "display_data"
    }
   ],
   "source": [
    "#%%pycodestyle\n",
    "%matplotlib inline\n",
    "\n",
    "\n",
    "max_n = 50\n",
    "max_starts = 1000\n",
    "scores = np.zeros((max_n-1), dtype=float)\n",
    "my_clf = MyKNeighborsClassifier(n_neighbors=1)\n",
    "for i in range(0, max_starts):\n",
    "    X_train, X_test, y_train, y_test = train_test_split(iris.data,\n",
    "                                                        iris.target,\n",
    "                                                        test_size=0.1,\n",
    "                                                        stratify=iris.target)\n",
    "    my_clf.fit(X_train, y_train)\n",
    "    for j in range(1, max_n):\n",
    "        my_clf.n_neighbors = j\n",
    "        scores[j-1] += my_clf.score(X_test, y_test)\n",
    "\n",
    "plt.plot(np.arange(1, max_n), scores/max_starts, color='green', linewidth=2.5)\n",
    "plt.grid()\n",
    "plt.xlabel('Number of neighbors')\n",
    "plt.ylabel('Score')\n",
    "\n",
    "best_n = np.argmax(scores) + 1\n",
    "print('Best number of neighbors is ', best_n)"
   ]
  },
  {
   "cell_type": "markdown",
   "metadata": {},
   "source": [
    "**MNIST**"
   ]
  },
  {
   "cell_type": "code",
   "execution_count": 15,
   "metadata": {},
   "outputs": [],
   "source": [
    "mnist = fetch_mldata('MNIST original')"
   ]
  },
  {
   "cell_type": "code",
   "execution_count": 16,
   "metadata": {},
   "outputs": [],
   "source": [
    "X_train, X_test, y_train, y_test = train_test_split(mnist.data, mnist.target, test_size=0.01, stratify=mnist.target)"
   ]
  },
  {
   "cell_type": "code",
   "execution_count": 17,
   "metadata": {},
   "outputs": [],
   "source": [
    "clf = KNeighborsClassifier(n_neighbors=best_n)\n",
    "my_clf = MyKNeighborsClassifier(n_neighbors=best_n)"
   ]
  },
  {
   "cell_type": "code",
   "execution_count": 18,
   "metadata": {},
   "outputs": [
    {
     "name": "stdout",
     "output_type": "stream",
     "text": [
      "CPU times: user 23.5 s, sys: 140 ms, total: 23.6 s\n",
      "Wall time: 23.6 s\n"
     ]
    },
    {
     "data": {
      "text/plain": [
       "KNeighborsClassifier(algorithm='auto', leaf_size=30, metric='minkowski',\n",
       "           metric_params=None, n_jobs=1, n_neighbors=17, p=2,\n",
       "           weights='uniform')"
      ]
     },
     "execution_count": 18,
     "metadata": {},
     "output_type": "execute_result"
    }
   ],
   "source": [
    "%time clf.fit(X_train, y_train)"
   ]
  },
  {
   "cell_type": "code",
   "execution_count": 19,
   "metadata": {},
   "outputs": [
    {
     "name": "stdout",
     "output_type": "stream",
     "text": [
      "CPU times: user 376 ms, sys: 156 ms, total: 532 ms\n",
      "Wall time: 308 ms\n"
     ]
    }
   ],
   "source": [
    "%time my_clf.fit(X_train, y_train)"
   ]
  },
  {
   "cell_type": "code",
   "execution_count": 20,
   "metadata": {},
   "outputs": [
    {
     "name": "stdout",
     "output_type": "stream",
     "text": [
      "CPU times: user 1min 1s, sys: 4 ms, total: 1min 1s\n",
      "Wall time: 1min 1s\n"
     ]
    },
    {
     "data": {
      "text/plain": [
       "array([5., 9., 2., 4., 8., 1., 3., 1., 3., 5., 3., 3., 5., 1., 7., 0., 1.,\n",
       "       8., 3., 4., 7., 8., 1., 8., 6., 2., 7., 0., 3., 0., 9., 1., 6., 0.,\n",
       "       9., 1., 8., 7., 2., 8., 9., 5., 2., 0., 2., 4., 7., 0., 6., 5., 3.,\n",
       "       1., 9., 8., 4., 2., 3., 1., 2., 4., 6., 6., 6., 5., 4., 4., 0., 6.,\n",
       "       9., 1., 3., 0., 5., 5., 9., 2., 4., 7., 2., 9., 9., 9., 8., 7., 1.,\n",
       "       8., 0., 7., 1., 4., 5., 9., 8., 1., 8., 1., 2., 3., 2., 0., 9., 0.,\n",
       "       4., 7., 8., 4., 3., 7., 1., 6., 3., 4., 8., 2., 7., 8., 9., 9., 1.,\n",
       "       7., 3., 9., 1., 4., 8., 0., 2., 7., 3., 7., 5., 9., 4., 7., 1., 4.,\n",
       "       8., 9., 3., 3., 3., 4., 6., 6., 6., 9., 7., 1., 3., 0., 7., 9., 7.,\n",
       "       4., 3., 6., 5., 5., 5., 1., 6., 0., 7., 7., 8., 1., 0., 8., 7., 1.,\n",
       "       3., 9., 1., 8., 0., 9., 0., 0., 0., 9., 7., 5., 3., 6., 4., 6., 2.,\n",
       "       0., 2., 0., 1., 2., 6., 3., 6., 1., 7., 6., 9., 9., 2., 2., 4., 0.,\n",
       "       6., 4., 4., 1., 7., 8., 1., 4., 1., 5., 7., 6., 2., 3., 9., 9., 3.,\n",
       "       1., 0., 7., 7., 4., 9., 1., 5., 9., 9., 9., 0., 7., 1., 4., 8., 6.,\n",
       "       3., 7., 1., 0., 2., 0., 1., 7., 6., 1., 7., 1., 7., 1., 8., 4., 8.,\n",
       "       4., 7., 6., 1., 1., 4., 2., 4., 9., 5., 5., 5., 9., 1., 7., 3., 9.,\n",
       "       7., 8., 9., 9., 2., 4., 8., 4., 3., 3., 7., 5., 6., 2., 7., 5., 1.,\n",
       "       6., 2., 1., 9., 7., 7., 1., 3., 2., 2., 9., 3., 9., 3., 1., 9., 6.,\n",
       "       0., 1., 5., 1., 0., 9., 3., 7., 6., 2., 1., 0., 4., 7., 8., 8., 3.,\n",
       "       4., 1., 7., 0., 1., 5., 4., 4., 0., 7., 0., 7., 8., 7., 2., 0., 7.,\n",
       "       5., 3., 0., 0., 3., 3., 3., 3., 9., 9., 2., 4., 7., 3., 6., 8., 8.,\n",
       "       2., 7., 7., 2., 8., 3., 7., 7., 1., 2., 0., 4., 1., 6., 8., 4., 3.,\n",
       "       8., 9., 7., 2., 9., 4., 1., 6., 1., 7., 9., 2., 5., 2., 6., 4., 7.,\n",
       "       6., 0., 1., 9., 1., 9., 4., 3., 7., 7., 4., 9., 6., 6., 4., 1., 6.,\n",
       "       6., 0., 0., 2., 6., 0., 4., 2., 0., 1., 7., 6., 4., 4., 3., 4., 6.,\n",
       "       8., 4., 0., 6., 7., 3., 3., 6., 0., 7., 4., 0., 8., 0., 9., 2., 4.,\n",
       "       1., 5., 5., 0., 3., 2., 0., 8., 0., 1., 5., 4., 8., 6., 5., 3., 0.,\n",
       "       1., 5., 8., 8., 5., 9., 1., 4., 1., 6., 0., 8., 9., 0., 5., 0., 2.,\n",
       "       2., 5., 4., 3., 5., 0., 0., 9., 3., 7., 0., 4., 2., 1., 0., 9., 5.,\n",
       "       7., 0., 3., 1., 9., 6., 6., 2., 2., 3., 3., 2., 3., 9., 6., 5., 5.,\n",
       "       2., 3., 3., 3., 2., 7., 6., 4., 3., 2., 6., 6., 5., 3., 2., 6., 7.,\n",
       "       2., 4., 2., 2., 4., 6., 8., 5., 9., 5., 3., 2., 5., 1., 5., 8., 8.,\n",
       "       4., 8., 9., 1., 3., 2., 1., 1., 4., 8., 2., 4., 9., 8., 1., 6., 7.,\n",
       "       9., 3., 2., 6., 7., 5., 2., 1., 0., 8., 7., 8., 6., 0., 2., 1., 5.,\n",
       "       9., 6., 0., 1., 1., 9., 7., 6., 9., 5., 0., 3., 3., 2., 2., 0., 7.,\n",
       "       6., 5., 6., 2., 1., 3., 5., 5., 5., 9., 7., 3., 8., 1., 2., 8., 2.,\n",
       "       6., 3., 9., 1., 8., 6., 6., 1., 0., 2., 4., 2., 7., 3., 6., 9., 6.,\n",
       "       6., 8., 0., 2., 5., 1., 9., 8., 4., 4., 8., 0., 0., 6., 2., 3., 5.,\n",
       "       1., 8., 6., 9., 4., 9., 2., 5., 4., 7., 0., 1., 6., 8., 9., 4., 4.,\n",
       "       8., 4., 9., 0., 6., 3., 3., 5., 5., 7., 1., 1., 5., 5., 6., 5., 3.,\n",
       "       0., 8., 8., 5., 5., 3., 1., 1., 9., 5., 6., 6., 5., 5., 5., 3., 8.,\n",
       "       1., 2., 1.])"
      ]
     },
     "execution_count": 20,
     "metadata": {},
     "output_type": "execute_result"
    }
   ],
   "source": [
    "%time clf.predict(X_test)"
   ]
  },
  {
   "cell_type": "code",
   "execution_count": 21,
   "metadata": {},
   "outputs": [
    {
     "name": "stdout",
     "output_type": "stream",
     "text": [
      "CPU times: user 4.17 s, sys: 168 ms, total: 4.34 s\n",
      "Wall time: 2.16 s\n"
     ]
    },
    {
     "data": {
      "text/plain": [
       "array([5, 9, 2, 4, 8, 1, 3, 1, 3, 5, 3, 3, 5, 1, 7, 0, 1, 8, 3, 4, 7, 8,\n",
       "       1, 8, 6, 2, 7, 0, 3, 0, 9, 1, 6, 0, 9, 1, 8, 7, 2, 8, 9, 5, 2, 0,\n",
       "       2, 4, 7, 0, 6, 5, 3, 1, 9, 8, 4, 2, 3, 1, 2, 4, 6, 6, 6, 5, 4, 4,\n",
       "       0, 6, 9, 1, 3, 0, 5, 5, 9, 2, 4, 7, 2, 9, 9, 9, 8, 7, 1, 8, 0, 7,\n",
       "       1, 4, 5, 9, 8, 1, 8, 1, 2, 3, 2, 0, 9, 0, 4, 7, 8, 4, 3, 7, 1, 6,\n",
       "       3, 4, 8, 2, 7, 8, 9, 9, 1, 7, 3, 9, 1, 4, 8, 0, 2, 7, 3, 7, 5, 9,\n",
       "       4, 7, 1, 4, 8, 9, 3, 3, 3, 4, 6, 6, 6, 9, 7, 1, 3, 0, 7, 9, 7, 4,\n",
       "       3, 6, 5, 5, 5, 1, 6, 0, 7, 7, 8, 1, 0, 8, 7, 1, 3, 9, 1, 8, 0, 9,\n",
       "       0, 0, 0, 9, 7, 5, 3, 6, 4, 6, 2, 0, 2, 0, 1, 2, 6, 3, 6, 1, 7, 6,\n",
       "       9, 9, 2, 2, 4, 0, 6, 4, 4, 1, 7, 8, 1, 4, 1, 5, 7, 6, 2, 3, 9, 9,\n",
       "       3, 1, 0, 7, 7, 4, 9, 1, 5, 9, 9, 9, 0, 7, 1, 4, 8, 6, 3, 7, 1, 0,\n",
       "       2, 0, 1, 7, 6, 1, 7, 1, 7, 1, 8, 4, 8, 4, 7, 6, 1, 1, 4, 2, 4, 9,\n",
       "       5, 5, 5, 9, 1, 7, 3, 9, 7, 8, 9, 9, 2, 4, 8, 4, 3, 3, 7, 5, 6, 2,\n",
       "       7, 5, 1, 6, 2, 1, 9, 7, 7, 1, 3, 2, 2, 9, 3, 9, 3, 1, 9, 6, 0, 1,\n",
       "       5, 1, 0, 9, 3, 7, 6, 2, 1, 0, 4, 7, 8, 8, 3, 4, 1, 7, 0, 1, 5, 4,\n",
       "       4, 0, 7, 0, 7, 8, 7, 2, 0, 7, 5, 3, 0, 0, 3, 3, 3, 3, 9, 9, 2, 4,\n",
       "       7, 3, 6, 8, 8, 2, 7, 7, 2, 8, 3, 7, 7, 1, 2, 0, 4, 1, 6, 8, 4, 3,\n",
       "       8, 9, 7, 2, 9, 4, 1, 6, 1, 7, 9, 2, 5, 2, 6, 4, 7, 6, 0, 1, 9, 1,\n",
       "       9, 4, 3, 7, 7, 4, 9, 6, 6, 4, 1, 6, 6, 0, 0, 2, 6, 0, 4, 2, 0, 1,\n",
       "       7, 6, 4, 4, 3, 4, 6, 8, 4, 0, 6, 7, 3, 3, 6, 0, 7, 4, 0, 8, 0, 9,\n",
       "       2, 4, 1, 5, 5, 0, 3, 2, 0, 8, 0, 1, 5, 4, 8, 6, 5, 3, 0, 1, 5, 8,\n",
       "       8, 5, 9, 1, 4, 1, 6, 0, 8, 9, 0, 5, 0, 2, 2, 5, 4, 3, 5, 0, 0, 9,\n",
       "       3, 7, 0, 4, 2, 1, 0, 9, 5, 7, 0, 3, 1, 9, 6, 6, 2, 2, 3, 3, 2, 3,\n",
       "       9, 6, 5, 5, 2, 3, 3, 3, 2, 7, 6, 4, 3, 2, 6, 6, 5, 3, 2, 6, 7, 2,\n",
       "       4, 2, 2, 4, 6, 8, 5, 9, 5, 3, 2, 5, 1, 5, 8, 8, 4, 8, 9, 1, 3, 2,\n",
       "       1, 1, 4, 8, 2, 4, 9, 8, 1, 6, 7, 9, 3, 2, 6, 7, 5, 2, 1, 0, 8, 7,\n",
       "       8, 6, 0, 2, 1, 5, 9, 6, 0, 1, 1, 9, 7, 6, 9, 5, 0, 3, 3, 2, 2, 0,\n",
       "       7, 6, 5, 6, 2, 1, 3, 5, 5, 5, 9, 7, 3, 8, 1, 2, 8, 2, 6, 3, 9, 1,\n",
       "       8, 6, 6, 1, 0, 2, 4, 2, 7, 3, 6, 9, 6, 6, 8, 0, 2, 5, 1, 9, 8, 4,\n",
       "       4, 8, 0, 0, 6, 2, 3, 5, 1, 8, 6, 9, 4, 9, 2, 5, 4, 7, 0, 1, 6, 8,\n",
       "       9, 4, 4, 8, 4, 9, 0, 6, 3, 3, 5, 5, 7, 1, 1, 5, 5, 6, 5, 3, 0, 8,\n",
       "       8, 5, 5, 3, 1, 1, 9, 5, 6, 6, 5, 5, 5, 3, 8, 1, 2, 1])"
      ]
     },
     "execution_count": 21,
     "metadata": {},
     "output_type": "execute_result"
    }
   ],
   "source": [
    "%time my_clf.predict(X_test)"
   ]
  },
  {
   "cell_type": "code",
   "execution_count": 22,
   "metadata": {},
   "outputs": [
    {
     "name": "stdout",
     "output_type": "stream",
     "text": [
      "CPU times: user 1min 1s, sys: 8 ms, total: 1min 1s\n",
      "Wall time: 1min 1s\n"
     ]
    },
    {
     "data": {
      "text/plain": [
       "array([[0.        , 0.        , 0.        , ..., 0.        , 0.        ,\n",
       "        0.        ],\n",
       "       [0.        , 0.        , 0.        , ..., 0.        , 0.        ,\n",
       "        1.        ],\n",
       "       [0.05882353, 0.        , 0.94117647, ..., 0.        , 0.        ,\n",
       "        0.        ],\n",
       "       ...,\n",
       "       [0.        , 1.        , 0.        , ..., 0.        , 0.        ,\n",
       "        0.        ],\n",
       "       [0.        , 0.        , 1.        , ..., 0.        , 0.        ,\n",
       "        0.        ],\n",
       "       [0.        , 1.        , 0.        , ..., 0.        , 0.        ,\n",
       "        0.        ]])"
      ]
     },
     "execution_count": 22,
     "metadata": {},
     "output_type": "execute_result"
    }
   ],
   "source": [
    "%time clf.predict_proba(X_test)"
   ]
  },
  {
   "cell_type": "code",
   "execution_count": 23,
   "metadata": {},
   "outputs": [
    {
     "name": "stdout",
     "output_type": "stream",
     "text": [
      "CPU times: user 4.22 s, sys: 172 ms, total: 4.4 s\n",
      "Wall time: 2.18 s\n"
     ]
    },
    {
     "data": {
      "text/plain": [
       "array([[0.        , 0.        , 0.        , ..., 0.        , 0.        ,\n",
       "        0.        ],\n",
       "       [0.        , 0.        , 0.        , ..., 0.        , 0.        ,\n",
       "        1.        ],\n",
       "       [0.05882353, 0.        , 0.94117647, ..., 0.        , 0.        ,\n",
       "        0.        ],\n",
       "       ...,\n",
       "       [0.        , 1.        , 0.        , ..., 0.        , 0.        ,\n",
       "        0.        ],\n",
       "       [0.        , 0.        , 1.        , ..., 0.        , 0.        ,\n",
       "        0.        ],\n",
       "       [0.        , 1.        , 0.        , ..., 0.        , 0.        ,\n",
       "        0.        ]])"
      ]
     },
     "execution_count": 23,
     "metadata": {},
     "output_type": "execute_result"
    }
   ],
   "source": [
    "%time my_clf.predict_proba(X_test)"
   ]
  },
  {
   "cell_type": "code",
   "execution_count": 24,
   "metadata": {},
   "outputs": [
    {
     "data": {
      "text/plain": [
       "0.9671428571428572"
      ]
     },
     "execution_count": 24,
     "metadata": {},
     "output_type": "execute_result"
    }
   ],
   "source": [
    "clf.score(X_test, y_test)"
   ]
  },
  {
   "cell_type": "code",
   "execution_count": 25,
   "metadata": {},
   "outputs": [
    {
     "data": {
      "text/plain": [
       "0.9671428571428572"
      ]
     },
     "execution_count": 25,
     "metadata": {},
     "output_type": "execute_result"
    }
   ],
   "source": [
    "my_clf.score(X_test, y_test)"
   ]
  },
  {
   "cell_type": "markdown",
   "metadata": {},
   "source": [
    "Задание 4"
   ]
  },
  {
   "cell_type": "code",
   "execution_count": 26,
   "metadata": {},
   "outputs": [],
   "source": [
    "clf = KNeighborsClassifier(n_neighbors=2, algorithm='kd_tree')\n",
    "my_clf = MyKNeighborsClassifier(n_neighbors=2, algorithm='kd_tree')"
   ]
  },
  {
   "cell_type": "code",
   "execution_count": 27,
   "metadata": {},
   "outputs": [],
   "source": [
    "X_train, X_test, y_train, y_test = train_test_split(mnist.data, mnist.target, test_size=0.01, stratify=mnist.target)"
   ]
  },
  {
   "cell_type": "code",
   "execution_count": 28,
   "metadata": {},
   "outputs": [
    {
     "name": "stdout",
     "output_type": "stream",
     "text": [
      "CPU times: user 22.1 s, sys: 92 ms, total: 22.2 s\n",
      "Wall time: 22.2 s\n"
     ]
    },
    {
     "data": {
      "text/plain": [
       "KNeighborsClassifier(algorithm='kd_tree', leaf_size=30, metric='minkowski',\n",
       "           metric_params=None, n_jobs=1, n_neighbors=2, p=2,\n",
       "           weights='uniform')"
      ]
     },
     "execution_count": 28,
     "metadata": {},
     "output_type": "execute_result"
    }
   ],
   "source": [
    "%time clf.fit(X_train, y_train)"
   ]
  },
  {
   "cell_type": "code",
   "execution_count": 29,
   "metadata": {},
   "outputs": [
    {
     "name": "stdout",
     "output_type": "stream",
     "text": [
      "CPU times: user 21 s, sys: 116 ms, total: 21.1 s\n",
      "Wall time: 21 s\n"
     ]
    }
   ],
   "source": [
    "%time my_clf.fit(X_train, y_train)"
   ]
  },
  {
   "cell_type": "code",
   "execution_count": 30,
   "metadata": {},
   "outputs": [
    {
     "name": "stdout",
     "output_type": "stream",
     "text": [
      "CPU times: user 1min 6s, sys: 4 ms, total: 1min 6s\n",
      "Wall time: 1min 6s\n"
     ]
    },
    {
     "data": {
      "text/plain": [
       "array([2., 4., 9., 3., 9., 5., 5., 6., 4., 2., 8., 6., 3., 6., 4., 5., 5.,\n",
       "       0., 0., 6., 4., 3., 7., 9., 5., 6., 9., 0., 6., 7., 3., 2., 2., 1.,\n",
       "       7., 3., 8., 8., 3., 1., 8., 1., 3., 8., 3., 6., 2., 8., 7., 8., 1.,\n",
       "       7., 0., 0., 0., 5., 3., 3., 4., 0., 1., 0., 4., 4., 5., 2., 9., 3.,\n",
       "       9., 6., 7., 0., 1., 4., 6., 2., 7., 4., 8., 0., 3., 3., 2., 1., 1.,\n",
       "       1., 2., 5., 6., 0., 4., 6., 7., 1., 2., 0., 0., 5., 7., 2., 7., 3.,\n",
       "       9., 5., 4., 0., 9., 1., 7., 0., 1., 5., 3., 7., 8., 0., 7., 1., 7.,\n",
       "       8., 1., 0., 4., 1., 4., 2., 6., 8., 4., 2., 8., 6., 5., 7., 5., 8.,\n",
       "       1., 0., 1., 7., 8., 0., 4., 7., 9., 8., 6., 5., 4., 1., 6., 4., 9.,\n",
       "       8., 5., 9., 5., 7., 4., 6., 5., 5., 3., 2., 8., 8., 8., 0., 4., 3.,\n",
       "       1., 5., 9., 9., 6., 3., 7., 9., 4., 0., 3., 6., 7., 6., 9., 3., 2.,\n",
       "       9., 7., 2., 7., 5., 4., 5., 9., 9., 1., 0., 1., 3., 3., 7., 5., 2.,\n",
       "       3., 6., 9., 5., 7., 9., 5., 2., 9., 4., 9., 5., 7., 9., 4., 7., 8.,\n",
       "       0., 7., 1., 1., 7., 0., 9., 6., 8., 0., 8., 0., 7., 4., 2., 6., 9.,\n",
       "       2., 6., 5., 7., 5., 3., 1., 2., 7., 4., 3., 0., 9., 7., 3., 7., 8.,\n",
       "       2., 5., 2., 5., 3., 7., 0., 8., 9., 3., 5., 5., 7., 1., 7., 4., 5.,\n",
       "       5., 0., 3., 5., 4., 9., 3., 5., 6., 1., 1., 4., 8., 0., 6., 3., 9.,\n",
       "       9., 5., 8., 3., 4., 3., 1., 3., 1., 4., 8., 3., 9., 9., 8., 4., 7.,\n",
       "       9., 0., 6., 1., 0., 2., 7., 7., 1., 6., 5., 4., 7., 5., 8., 2., 1.,\n",
       "       7., 0., 4., 3., 9., 5., 1., 6., 4., 6., 6., 1., 2., 3., 1., 7., 0.,\n",
       "       4., 2., 3., 0., 3., 0., 2., 4., 2., 9., 6., 2., 2., 2., 6., 3., 9.,\n",
       "       3., 1., 3., 3., 0., 6., 7., 3., 8., 6., 2., 2., 3., 6., 9., 0., 1.,\n",
       "       9., 9., 4., 5., 1., 8., 9., 5., 8., 4., 0., 7., 8., 9., 1., 1., 6.,\n",
       "       6., 9., 1., 1., 1., 7., 7., 1., 3., 8., 7., 3., 3., 4., 4., 7., 3.,\n",
       "       9., 0., 1., 3., 9., 3., 7., 0., 8., 2., 1., 4., 5., 4., 8., 2., 0.,\n",
       "       0., 0., 1., 8., 2., 2., 9., 9., 1., 7., 2., 0., 7., 4., 1., 1., 2.,\n",
       "       3., 3., 4., 2., 8., 2., 3., 5., 8., 8., 1., 0., 5., 0., 5., 9., 7.,\n",
       "       1., 3., 2., 2., 6., 6., 0., 4., 6., 3., 2., 6., 2., 3., 5., 3., 5.,\n",
       "       6., 2., 1., 3., 9., 7., 3., 9., 5., 2., 9., 5., 5., 5., 1., 1., 7.,\n",
       "       1., 3., 3., 9., 2., 5., 0., 9., 1., 2., 3., 8., 3., 9., 9., 4., 6.,\n",
       "       6., 6., 6., 4., 5., 7., 7., 7., 7., 0., 9., 2., 4., 9., 8., 0., 2.,\n",
       "       6., 8., 9., 4., 9., 2., 8., 6., 3., 1., 7., 0., 2., 8., 4., 8., 9.,\n",
       "       6., 1., 4., 0., 4., 1., 4., 2., 8., 0., 7., 4., 5., 8., 6., 8., 9.,\n",
       "       1., 4., 1., 9., 5., 4., 9., 8., 7., 7., 6., 0., 3., 6., 1., 0., 5.,\n",
       "       7., 1., 7., 4., 0., 1., 2., 4., 1., 6., 0., 7., 6., 5., 2., 2., 3.,\n",
       "       7., 0., 6., 0., 2., 9., 9., 8., 2., 1., 5., 8., 3., 8., 0., 1., 1.,\n",
       "       0., 0., 2., 1., 2., 6., 6., 0., 5., 2., 2., 0., 1., 5., 7., 4., 0.,\n",
       "       9., 3., 6., 1., 1., 4., 7., 0., 6., 2., 4., 7., 5., 6., 1., 4., 4.,\n",
       "       2., 1., 7., 8., 0., 9., 5., 1., 4., 9., 7., 3., 8., 2., 8., 8., 5.,\n",
       "       9., 1., 4., 3., 8., 6., 2., 4., 7., 0., 8., 1., 3., 2., 1., 3., 6.,\n",
       "       6., 1., 4., 6., 4., 6., 6., 2., 8., 0., 7., 8., 9., 3., 5., 8., 7.,\n",
       "       6., 6., 6.])"
      ]
     },
     "execution_count": 30,
     "metadata": {},
     "output_type": "execute_result"
    }
   ],
   "source": [
    "%time clf.predict(X_test)"
   ]
  },
  {
   "cell_type": "code",
   "execution_count": 31,
   "metadata": {},
   "outputs": [
    {
     "name": "stdout",
     "output_type": "stream",
     "text": [
      "CPU times: user 54.6 s, sys: 4 ms, total: 54.6 s\n",
      "Wall time: 54.6 s\n"
     ]
    },
    {
     "data": {
      "text/plain": [
       "array([2, 4, 9, 3, 9, 5, 5, 6, 4, 2, 8, 6, 3, 6, 4, 5, 5, 0, 0, 6, 4, 3,\n",
       "       7, 9, 5, 6, 9, 0, 6, 7, 3, 2, 2, 1, 7, 3, 8, 8, 3, 1, 8, 1, 3, 8,\n",
       "       3, 6, 2, 8, 7, 8, 1, 7, 0, 0, 0, 5, 3, 3, 4, 0, 1, 0, 4, 4, 5, 2,\n",
       "       9, 3, 9, 6, 7, 0, 1, 4, 6, 2, 7, 4, 8, 0, 3, 3, 2, 1, 1, 1, 2, 5,\n",
       "       6, 0, 4, 6, 7, 1, 2, 0, 0, 5, 7, 2, 7, 3, 9, 5, 4, 0, 9, 1, 7, 0,\n",
       "       1, 5, 3, 7, 8, 0, 7, 1, 7, 8, 1, 0, 4, 1, 4, 2, 6, 8, 4, 2, 8, 6,\n",
       "       5, 7, 5, 8, 1, 0, 1, 7, 8, 0, 4, 7, 9, 8, 6, 5, 4, 1, 6, 4, 9, 8,\n",
       "       5, 9, 5, 7, 4, 6, 5, 5, 3, 2, 8, 8, 8, 0, 4, 3, 1, 5, 9, 9, 6, 3,\n",
       "       7, 9, 4, 0, 3, 6, 7, 6, 9, 3, 2, 9, 7, 2, 7, 5, 4, 5, 9, 9, 1, 0,\n",
       "       1, 3, 3, 7, 5, 2, 3, 6, 9, 5, 7, 9, 5, 2, 9, 4, 9, 5, 7, 9, 4, 7,\n",
       "       8, 0, 7, 1, 1, 7, 0, 9, 6, 8, 0, 8, 0, 7, 4, 2, 6, 9, 2, 6, 5, 7,\n",
       "       5, 3, 1, 2, 7, 4, 3, 0, 9, 7, 3, 7, 8, 2, 5, 2, 5, 3, 7, 0, 8, 9,\n",
       "       3, 5, 5, 7, 1, 7, 4, 5, 5, 0, 3, 5, 4, 9, 3, 5, 6, 1, 1, 4, 8, 0,\n",
       "       6, 3, 9, 9, 5, 8, 3, 4, 3, 1, 3, 1, 4, 8, 3, 9, 9, 8, 4, 7, 9, 0,\n",
       "       6, 1, 0, 2, 7, 7, 1, 6, 5, 4, 7, 5, 8, 2, 1, 7, 0, 4, 3, 9, 5, 1,\n",
       "       6, 4, 6, 6, 1, 2, 3, 1, 7, 0, 4, 2, 3, 0, 3, 0, 2, 4, 2, 9, 6, 2,\n",
       "       2, 2, 6, 3, 9, 3, 1, 3, 3, 0, 6, 7, 3, 8, 6, 2, 2, 3, 6, 9, 0, 1,\n",
       "       9, 9, 4, 5, 1, 8, 9, 5, 8, 4, 0, 7, 8, 9, 1, 1, 6, 6, 9, 1, 1, 1,\n",
       "       7, 7, 1, 3, 8, 7, 3, 3, 4, 4, 7, 3, 9, 0, 1, 3, 9, 3, 7, 0, 8, 2,\n",
       "       1, 4, 5, 4, 8, 2, 0, 0, 0, 1, 8, 2, 2, 9, 9, 1, 7, 2, 0, 7, 4, 1,\n",
       "       1, 2, 3, 3, 4, 2, 8, 2, 3, 5, 8, 8, 1, 0, 5, 0, 5, 9, 7, 1, 3, 2,\n",
       "       2, 6, 6, 0, 4, 6, 3, 2, 6, 2, 3, 5, 3, 5, 6, 2, 1, 3, 9, 7, 3, 9,\n",
       "       5, 2, 9, 5, 5, 5, 1, 1, 7, 1, 3, 3, 9, 2, 5, 0, 9, 1, 2, 3, 8, 3,\n",
       "       9, 9, 4, 6, 6, 6, 6, 4, 5, 7, 7, 7, 7, 0, 9, 2, 4, 9, 8, 0, 2, 6,\n",
       "       8, 9, 4, 9, 2, 8, 6, 3, 1, 7, 0, 2, 8, 4, 8, 9, 6, 1, 4, 0, 4, 1,\n",
       "       4, 2, 8, 0, 7, 4, 5, 8, 6, 8, 9, 1, 4, 1, 9, 5, 4, 9, 8, 7, 7, 6,\n",
       "       0, 3, 6, 1, 0, 5, 7, 1, 7, 4, 0, 1, 2, 4, 1, 6, 0, 7, 6, 5, 2, 2,\n",
       "       3, 7, 0, 6, 0, 2, 9, 9, 8, 2, 1, 5, 8, 3, 8, 0, 1, 1, 0, 0, 2, 1,\n",
       "       2, 6, 6, 0, 5, 2, 2, 0, 1, 5, 7, 4, 0, 9, 3, 6, 1, 1, 4, 7, 0, 6,\n",
       "       2, 4, 7, 5, 6, 1, 4, 4, 2, 1, 7, 8, 0, 9, 5, 1, 4, 9, 7, 3, 8, 2,\n",
       "       8, 8, 5, 9, 1, 4, 3, 8, 6, 2, 4, 7, 0, 8, 1, 3, 2, 1, 3, 6, 6, 1,\n",
       "       4, 6, 4, 6, 6, 2, 8, 0, 7, 8, 9, 3, 5, 8, 7, 6, 6, 6])"
      ]
     },
     "execution_count": 31,
     "metadata": {},
     "output_type": "execute_result"
    }
   ],
   "source": [
    "%time my_clf.predict(X_test)"
   ]
  },
  {
   "cell_type": "code",
   "execution_count": 32,
   "metadata": {},
   "outputs": [
    {
     "name": "stdout",
     "output_type": "stream",
     "text": [
      "CPU times: user 1min 4s, sys: 20 ms, total: 1min 4s\n",
      "Wall time: 1min 4s\n"
     ]
    },
    {
     "data": {
      "text/plain": [
       "array([[0. , 0. , 1. , ..., 0. , 0. , 0. ],\n",
       "       [0. , 0. , 0. , ..., 0. , 0. , 0.5],\n",
       "       [0. , 0. , 0. , ..., 0. , 0. , 1. ],\n",
       "       ...,\n",
       "       [0. , 0. , 0. , ..., 0. , 0. , 0. ],\n",
       "       [0. , 0. , 0. , ..., 0. , 0. , 0. ],\n",
       "       [0. , 0. , 0. , ..., 0. , 0. , 0. ]])"
      ]
     },
     "execution_count": 32,
     "metadata": {},
     "output_type": "execute_result"
    }
   ],
   "source": [
    "%time clf.predict_proba(X_test)"
   ]
  },
  {
   "cell_type": "code",
   "execution_count": 33,
   "metadata": {},
   "outputs": [
    {
     "name": "stdout",
     "output_type": "stream",
     "text": [
      "CPU times: user 54.7 s, sys: 0 ns, total: 54.7 s\n",
      "Wall time: 54.7 s\n"
     ]
    },
    {
     "data": {
      "text/plain": [
       "array([[0. , 0. , 1. , ..., 0. , 0. , 0. ],\n",
       "       [0. , 0. , 0. , ..., 0. , 0. , 0.5],\n",
       "       [0. , 0. , 0. , ..., 0. , 0. , 1. ],\n",
       "       ...,\n",
       "       [0. , 0. , 0. , ..., 0. , 0. , 0. ],\n",
       "       [0. , 0. , 0. , ..., 0. , 0. , 0. ],\n",
       "       [0. , 0. , 0. , ..., 0. , 0. , 0. ]])"
      ]
     },
     "execution_count": 33,
     "metadata": {},
     "output_type": "execute_result"
    }
   ],
   "source": [
    "%time my_clf.predict_proba(X_test)"
   ]
  },
  {
   "cell_type": "code",
   "execution_count": 34,
   "metadata": {},
   "outputs": [
    {
     "data": {
      "text/plain": [
       "0.97"
      ]
     },
     "execution_count": 34,
     "metadata": {},
     "output_type": "execute_result"
    }
   ],
   "source": [
    "clf.score(X_test, y_test)"
   ]
  },
  {
   "cell_type": "code",
   "execution_count": 35,
   "metadata": {},
   "outputs": [
    {
     "data": {
      "text/plain": [
       "0.97"
      ]
     },
     "execution_count": 35,
     "metadata": {},
     "output_type": "execute_result"
    }
   ],
   "source": [
    "my_clf.score(X_test, y_test)"
   ]
  },
  {
   "cell_type": "markdown",
   "metadata": {},
   "source": [
    "Задание 5"
   ]
  },
  {
   "cell_type": "code",
   "execution_count": 38,
   "metadata": {},
   "outputs": [
    {
     "data": {
      "text/plain": [
       "'\\nБазовый класс, в котором реализована функция обучения (fit)\\n'"
      ]
     },
     "execution_count": 38,
     "metadata": {},
     "output_type": "execute_result"
    }
   ],
   "source": [
    "# seaborn\n",
    "\"\"\"\n",
    "Библиотека для визуализации данных, основанная на matplotlib\n",
    "Упрощает процесс построения графиков\n",
    "\"\"\"\n",
    "\n",
    "# matplotlib\n",
    "\"\"\"\n",
    "Библиотека для построения графиков различного типа\n",
    "Преимущественно используется для визуализаии данных\n",
    "\"\"\"\n",
    "\n",
    "# train_test_split\n",
    "\"\"\"\n",
    "Функция, разбивающая набор данных и их метки на две части - тренировочную и тестовую\n",
    "\"\"\"\n",
    "\n",
    "# Pipelin%load_ext e (from sklearn.pipeline import Pipeline)\n",
    "\"\"\"\n",
    "Конвеер - позволяет применить к данным последовательность преобразований\n",
    "с последующей оценкой результата обучения модели\n",
    "\"\"\"\n",
    "\n",
    "# StandardScaler (from sklearn.preprocessing import StandardScaler)\n",
    "\"\"\"\n",
    "Производит стандартизацию данных. То есть преобразует их таким образом, что mean = 0,\n",
    "а стандартное отклонение = 1\n",
    "\"\"\"\n",
    "\n",
    "# ClassifierMixin\n",
    "\"\"\"\n",
    "Базовый класс для всех классификаторов sklearn\n",
    "\"\"\"\n",
    "\n",
    "# NeighborsBase\n",
    "\"\"\"\n",
    "Базовый класс для классов, реализующих knn в sklearn\n",
    "\"\"\"\n",
    "\n",
    "# KNeighborsMixin\n",
    "\"\"\"\n",
    "Базовый класс, реализующий поиск ближайших соседей в sklearn\n",
    "\"\"\"\n",
    "\n",
    "# SupervisedIntegerMixin\n",
    "\"\"\"\n",
    "Базовый класс, в котором реализована функция обучения (fit)\n",
    "\"\"\"\n"
   ]
  }
 ],
 "metadata": {
  "kernelspec": {
   "display_name": "Python 3",
   "language": "python",
   "name": "python3"
  },
  "language_info": {
   "codemirror_mode": {
    "name": "ipython",
    "version": 3
   },
   "file_extension": ".py",
   "mimetype": "text/x-python",
   "name": "python",
   "nbconvert_exporter": "python",
   "pygments_lexer": "ipython3",
   "version": "3.6.5"
  }
 },
 "nbformat": 4,
 "nbformat_minor": 2
}
